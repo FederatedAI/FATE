{
 "cells": [
  {
   "cell_type": "markdown",
   "id": "62c54b23-557b-461e-979d-592643b66519",
   "metadata": {},
   "source": [
    "# Tutorial on Running Launchers"
   ]
  },
  {
   "cell_type": "markdown",
   "id": "ecd7e463-99cb-4e5e-9f57-e207051acaf9",
   "metadata": {},
   "source": [
    "### Introduction"
   ]
  },
  {
   "cell_type": "markdown",
   "id": "105dd070-ef80-4bdf-91bc-b3c85e876c3c",
   "metadata": {},
   "source": [
    "In FATE-2.0.0-rc, we introduce launchers for running ml modules locally, a light-weight way to quick-start experimenting with FATE modules. Running launchers do not require active FATE-Flow services or dependencies from FATE-Flow, but it does require installation of all necesary depencies of FATE-ML."
   ]
  },
  {
   "cell_type": "markdown",
   "id": "4225370e-7ce6-4b8c-8dcb-7218b2f20f91",
   "metadata": {},
   "source": [
    "### Installation"
   ]
  },
  {
   "cell_type": "markdown",
   "id": "cf0a6e04-34f8-4ffe-bf78-60198d0e88c1",
   "metadata": {},
   "source": [
    "Download FATE-ML code by cloninig into [github repo](https://github.com/FederatedAI/FATE/blob/master/) or downloading zip file directly on the github repo website."
   ]
  },
  {
   "cell_type": "markdown",
   "id": "2a3e183c-c818-4a2a-af90-435397278cc1",
   "metadata": {},
   "source": [
    "Install all requirements of FATE-ML by following commands if depencies have not been met:"
   ]
  },
  {
   "cell_type": "code",
   "execution_count": null,
   "id": "ce485d41-de66-4aa3-b2d2-c2a0559906ba",
   "metadata": {},
   "outputs": [],
   "source": [
    "!pip install -r ${FATE}/python/requiremnts-fate.txt"
   ]
  },
  {
   "cell_type": "markdown",
   "id": "e58c3c79-584c-4f00-a7e3-c549a7a58401",
   "metadata": {},
   "source": [
    "### Running A Launcher"
   ]
  },
  {
   "cell_type": "markdown",
   "id": "5d0a39b7-b55e-475e-824d-6f04d90578e1",
   "metadata": {},
   "source": [
    "Once depencies are met, look for `launchers` directory under FATE. \n",
    "\n",
    "Currently we provide various ready-to-use launchers for testing mpc protocol and SSHE LR & LinR modules."
   ]
  },
  {
   "cell_type": "code",
   "execution_count": null,
   "id": "79a74e61-a65b-4c5a-a10b-ad9ecd4e1429",
   "metadata": {},
   "outputs": [],
   "source": [
    "!ls FATE/launchers"
   ]
  },
  {
   "cell_type": "markdown",
   "id": "7ca3a83d-c9e1-4c63-b784-3d1d73c84d5b",
   "metadata": {},
   "source": [
    "As a demo, here we start a Pearson launcher with the following setting:\n",
    "- guest: 9999\n",
    "- host: 10000\n",
    "- guest_data: examples/data/breast_hetero_guest.csv\n",
    "- host_data: examples/data/breast_hetero_host.py\n",
    "- log level: INFO"
   ]
  },
  {
   "cell_type": "code",
   "execution_count": null,
   "id": "2371f26c-6658-4ee6-bd05-cfc6fbb59717",
   "metadata": {},
   "outputs": [],
   "source": [
    "!python FATE/launchers/pearson_launcher.py --parties guest:9999 host:10000 --log_level INFO --guest_data FATE/examples/data/breast_hetero_guest.csv --host_data FATE/examples/data/breast_hetero_host.csv"
   ]
  }
 ],
 "metadata": {
  "kernelspec": {
   "display_name": "Python 3 (ipykernel)",
   "language": "python",
   "name": "python3"
  },
  "language_info": {
   "codemirror_mode": {
    "name": "ipython",
    "version": 3
   },
   "file_extension": ".py",
   "mimetype": "text/x-python",
   "name": "python",
   "nbconvert_exporter": "python",
   "pygments_lexer": "ipython3",
   "version": "3.8.10"
  }
 },
 "nbformat": 4,
 "nbformat_minor": 5
}
