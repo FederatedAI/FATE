{
 "cells": [
  {
   "cell_type": "markdown",
   "id": "d141e881",
   "metadata": {},
   "source": [
    "# 简介\n",
    "\n",
    "在FATE-1.10中 Homo-NN 进行了一次大升级，开放了数据集，模型，训练流程，与联邦Aggregator定制化的接口，以满足不同场景，不同任务的使用需求，同时，Hetero-NN也支持了对Bottom Model, Top Model 以及数据集的定制化\n",
    "\n",
    "该分支为一个demo分支，基于1.9.0开发，目前尚未经过严格测试，还是存在一些bug，但是已经基本可用，在FATE-1.10发布前，该分支会持续更新，直到作为1.10版本的正式内容发布\n",
    "\n",
    "本章介绍如何安装使用该分支，请遵照以下步骤，该分支目前仅用于单机版本 "
   ]
  },
  {
   "cell_type": "markdown",
   "id": "dd5231d5",
   "metadata": {},
   "source": [
    "# 安装FATE1.9单机版\n",
    "\n",
    "第一步请先麻烦按照FATE的单机版按照教程安装单机版，这里在ubuntu系统下安装compiled版本（不是docker版本, 不过docker版本也可替换代码）\n",
    "\n",
    "当然你也可以基于你现有的FATE-1.9替换，如果你已经安装好，跳过这一步"
   ]
  },
  {
   "cell_type": "markdown",
   "id": "3ca4151c",
   "metadata": {},
   "source": [
    "- wget https://webank-ai-1251170195.cos.ap-guangzhou.myqcloud.com/fate/1.9.0/release/standalone_fate_install_1.9.0_release.tar.gz;\n",
    "\n",
    "- tar -xzvf ./standalone_fate_install_1.9.0_release.tar.gz\n",
    "\n",
    "- cd standalone_fate_install_1.9.0_release\n",
    "\n",
    "- bash bin/init.sh init\n",
    "\n",
    "- source bin/init_env.sh # 进入虚拟环境"
   ]
  },
  {
   "cell_type": "markdown",
   "id": "3c210818",
   "metadata": {},
   "source": [
    "待执行完成后即可"
   ]
  },
  {
   "cell_type": "markdown",
   "id": "849bfebd",
   "metadata": {},
   "source": [
    "# 拷贝该分支代码到安装好的单机版，替换，启动\n",
    "\n",
    "\n",
    "之后，用该分支替换的fate/python替换fate/python文件夹\n",
    "\n",
    "\n",
    "- 安装新的requirement.txt:\n",
    "    - cd ./fate/python\n",
    "    - pip install -r requirement.txt -i https://pypi.tuna.tsinghua.edu.cn/simple\n",
    "\n",
    "\n",
    "- 本地重新安装 fate-client:\n",
    "    - pip install -e ./fate_client \n",
    "\n",
    "\n",
    "- 为了使用教程的数据，整体替换examples文件夹\n",
    "\n",
    "\n",
    "- 将教程文件夹拷贝到standalone_fate_install_1.9.0_release下\n",
    "\n",
    "\n",
    "- 启动fateflow fateboard\n",
    "\n",
    "\n",
    "- 初始化pipeline和flow:\n",
    "    - pipeline init --ip xxx --port 9380  # 你的ip \n",
    "    - flow init --ip xxx --port 9380\n",
    "    \n",
    "    \n",
    "- 安装jupyter notebook即可使用教程\n",
    "    - pip install jupyter\n",
    "    - jupyter notebook"
   ]
  },
  {
   "cell_type": "code",
   "execution_count": null,
   "id": "947b22c7",
   "metadata": {},
   "outputs": [],
   "source": []
  }
 ],
 "metadata": {
  "kernelspec": {
   "display_name": "Python 3 (ipykernel)",
   "language": "python",
   "name": "python3"
  },
  "language_info": {
   "codemirror_mode": {
    "name": "ipython",
    "version": 3
   },
   "file_extension": ".py",
   "mimetype": "text/x-python",
   "name": "python",
   "nbconvert_exporter": "python",
   "pygments_lexer": "ipython3",
   "version": "3.8.13"
  }
 },
 "nbformat": 4,
 "nbformat_minor": 5
}
