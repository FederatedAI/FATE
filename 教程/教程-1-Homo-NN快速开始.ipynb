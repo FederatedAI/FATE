{
 "cells": [
  {
   "cell_type": "markdown",
   "id": "3ee4aa0e",
   "metadata": {},
   "source": [
    "# Homo NN 单机版快速开始"
   ]
  },
  {
   "cell_type": "markdown",
   "id": "deff6c23",
   "metadata": {},
   "source": [
    "在该版本中， pipeline中Homo-NN加入了对pytorch的支持，可以遵照pytorch往常的使用方式，定义Sequential模型，使用torch自带的layers, 提交模型\n",
    "\n",
    "下面给出一个基础的二分类任务Homo-NN任务，有两个client，party id分别为10000，9999参与，并指定10000为server端聚合模型。\n",
    "\n",
    "使用方法与的其他FATE算法一致：使用FATE自带的reader, transformer接口进行表格数据输入，\n",
    "数据输入到算法组件中，组件使用定义的模型，优化器和loss函数进行训练，聚合模型"
   ]
  },
  {
   "cell_type": "markdown",
   "id": "43fd3f74",
   "metadata": {},
   "source": [
    "## 上传csv数据到FATE"
   ]
  },
  {
   "cell_type": "code",
   "execution_count": 1,
   "id": "611ca3bf",
   "metadata": {},
   "outputs": [
    {
     "name": "stdout",
     "output_type": "stream",
     "text": [
      " UPLOADING:||||||||||||||||||||||||||||||||||||||||||||||||||||||||||||||||||||||||||||||||||||||||||||||||||||100.00%\n"
     ]
    },
    {
     "name": "stderr",
     "output_type": "stream",
     "text": [
      "\u001b[32m2022-11-11 12:19:42.829\u001b[0m | \u001b[1mINFO    \u001b[0m | \u001b[36mpipeline.utils.invoker.job_submitter\u001b[0m:\u001b[36mmonitor_job_status\u001b[0m:\u001b[36m83\u001b[0m - \u001b[1mJob id is 202211111219416095940\n",
      "\u001b[0m\n",
      "\u001b[32m2022-11-11 12:19:42.841\u001b[0m | \u001b[1mINFO    \u001b[0m | \u001b[36mpipeline.utils.invoker.job_submitter\u001b[0m:\u001b[36mmonitor_job_status\u001b[0m:\u001b[36m98\u001b[0m - \u001b[1m\u001b[80D\u001b[1A\u001b[KJob is still waiting, time elapse: 0:00:00\u001b[0m\n",
      "\u001b[0mm2022-11-11 12:19:45.304\u001b[0m | \u001b[1mINFO    \u001b[0m | \u001b[36mpipeline.utils.invoker.job_submitter\u001b[0m:\u001b[36mmonitor_job_status\u001b[0m:\u001b[36m125\u001b[0m - \u001b[1m\n",
      "\u001b[32m2022-11-11 12:19:45.305\u001b[0m | \u001b[1mINFO    \u001b[0m | \u001b[36mpipeline.utils.invoker.job_submitter\u001b[0m:\u001b[36mmonitor_job_status\u001b[0m:\u001b[36m127\u001b[0m - \u001b[1m\u001b[80D\u001b[1A\u001b[KRunning component upload_0, time elapse: 0:00:02\u001b[0m\n",
      "\u001b[32m2022-11-11 12:19:46.334\u001b[0m | \u001b[1mINFO    \u001b[0m | \u001b[36mpipeline.utils.invoker.job_submitter\u001b[0m:\u001b[36mmonitor_job_status\u001b[0m:\u001b[36m127\u001b[0m - \u001b[1m\u001b[80D\u001b[1A\u001b[KRunning component upload_0, time elapse: 0:00:03\u001b[0m\n",
      "\u001b[32m2022-11-11 12:19:47.377\u001b[0m | \u001b[1mINFO    \u001b[0m | \u001b[36mpipeline.utils.invoker.job_submitter\u001b[0m:\u001b[36mmonitor_job_status\u001b[0m:\u001b[36m127\u001b[0m - \u001b[1m\u001b[80D\u001b[1A\u001b[KRunning component upload_0, time elapse: 0:00:04\u001b[0m\n",
      "\u001b[32m2022-11-11 12:19:48.398\u001b[0m | \u001b[1mINFO    \u001b[0m | \u001b[36mpipeline.utils.invoker.job_submitter\u001b[0m:\u001b[36mmonitor_job_status\u001b[0m:\u001b[36m127\u001b[0m - \u001b[1m\u001b[80D\u001b[1A\u001b[KRunning component upload_0, time elapse: 0:00:05\u001b[0m\n",
      "\u001b[32m2022-11-11 12:19:49.442\u001b[0m | \u001b[1mINFO    \u001b[0m | \u001b[36mpipeline.utils.invoker.job_submitter\u001b[0m:\u001b[36mmonitor_job_status\u001b[0m:\u001b[36m127\u001b[0m - \u001b[1m\u001b[80D\u001b[1A\u001b[KRunning component upload_0, time elapse: 0:00:06\u001b[0m\n",
      "\u001b[32m2022-11-11 12:19:50.463\u001b[0m | \u001b[1mINFO    \u001b[0m | \u001b[36mpipeline.utils.invoker.job_submitter\u001b[0m:\u001b[36mmonitor_job_status\u001b[0m:\u001b[36m127\u001b[0m - \u001b[1m\u001b[80D\u001b[1A\u001b[KRunning component upload_0, time elapse: 0:00:07\u001b[0m\n",
      "\u001b[32m2022-11-11 12:19:51.484\u001b[0m | \u001b[1mINFO    \u001b[0m | \u001b[36mpipeline.utils.invoker.job_submitter\u001b[0m:\u001b[36mmonitor_job_status\u001b[0m:\u001b[36m127\u001b[0m - \u001b[1m\u001b[80D\u001b[1A\u001b[KRunning component upload_0, time elapse: 0:00:08\u001b[0m\n",
      "\u001b[32m2022-11-11 12:19:52.497\u001b[0m | \u001b[1mINFO    \u001b[0m | \u001b[36mpipeline.utils.invoker.job_submitter\u001b[0m:\u001b[36mmonitor_job_status\u001b[0m:\u001b[36m89\u001b[0m - \u001b[1mJob is success!!! Job id is 202211111219416095940\u001b[0m\n",
      "\u001b[32m2022-11-11 12:19:52.498\u001b[0m | \u001b[1mINFO    \u001b[0m | \u001b[36mpipeline.utils.invoker.job_submitter\u001b[0m:\u001b[36mmonitor_job_status\u001b[0m:\u001b[36m90\u001b[0m - \u001b[1mTotal time: 0:00:09\u001b[0m\n"
     ]
    }
   ],
   "source": [
    "from pipeline.backend.pipeline import PipeLine  # pipeline类\n",
    "\n",
    "host_0 = 10000\n",
    "host_1 = 9999\n",
    "pipeline_upload = PipeLine().set_initiator(role='host', party_id=host_0).set_roles(host=[host_0, host_1],\n",
    "                                                                            arbiter=[host_0])\n",
    "\n",
    "partition = 4\n",
    "\n",
    "# 上传一份数据\n",
    "data = {\"name\": \"breast_homo_host\", \"namespace\": \"experiment\"}\n",
    "pipeline_upload.add_upload_data(file=\"./examples/data/breast_homo_host.csv\", # 以project文件夹为根目录\n",
    "                                table_name=data[\"name\"],             # table name\n",
    "                                namespace=data[\"namespace\"],         # namespace\n",
    "                                head=1, partition=partition)               # data info\n",
    "\n",
    "pipeline_upload.upload(drop=1)"
   ]
  },
  {
   "cell_type": "markdown",
   "id": "53e6fc84",
   "metadata": {},
   "source": [
    "## 编写Pipeline脚本并执行"
   ]
  },
  {
   "cell_type": "markdown",
   "id": "9a5ccfe0",
   "metadata": {},
   "source": [
    "### import 相关组件"
   ]
  },
  {
   "cell_type": "code",
   "execution_count": 2,
   "id": "d4eec107",
   "metadata": {},
   "outputs": [],
   "source": [
    "# torch\n",
    "import torch as t\n",
    "from torch import nn\n",
    "\n",
    "# pipeline\n",
    "from pipeline.component.homo_nn import HomoNN, TrainerParam  # HomoNN组件，训练器参数\n",
    "from pipeline.backend.pipeline import PipeLine  # pipeline类\n",
    "from pipeline.component import Reader, DataTransform, Evaluation # 数据IO， Evaluation\n",
    "from pipeline.interface import Data  # Data接口，用于数据IO"
   ]
  },
  {
   "cell_type": "markdown",
   "id": "48edc92d",
   "metadata": {},
   "source": [
    "### fate torch hook\n",
    "\n",
    "请务必执行下面的fate_torch_hook函数，它会够修改torch的一些类，使得你定义的torch神经网络，优化器，loss function能够被pipeline解析并提交"
   ]
  },
  {
   "cell_type": "code",
   "execution_count": 3,
   "id": "955db238",
   "metadata": {},
   "outputs": [
    {
     "data": {
      "text/plain": [
       "<module 'torch' from '/home/cwj/standalone_fate_install_1.9.0_release/env/python/venv/lib/python3.8/site-packages/torch/__init__.py'>"
      ]
     },
     "execution_count": 3,
     "metadata": {},
     "output_type": "execute_result"
    }
   ],
   "source": [
    "from pipeline import fate_torch_hook\n",
    "fate_torch_hook(t)"
   ]
  },
  {
   "cell_type": "markdown",
   "id": "ee5be800",
   "metadata": {},
   "source": [
    "### pipeline脚本"
   ]
  },
  {
   "cell_type": "code",
   "execution_count": 9,
   "id": "cc9a174a",
   "metadata": {},
   "outputs": [
    {
     "data": {
      "text/plain": [
       "<pipeline.backend.pipeline.PipeLine at 0x7f3ba836c130>"
      ]
     },
     "execution_count": 9,
     "metadata": {},
     "output_type": "execute_result"
    }
   ],
   "source": [
    "# 创建pipeline \n",
    "host_0 = 10000\n",
    "host_1 = 9999\n",
    "pipeline = PipeLine().set_initiator(role='host', party_id=host_0).set_roles(host=[host_0, host_1],\n",
    "                                                                            arbiter=[host_0])\n",
    "\n",
    "# 设置上传数据\n",
    "train_data_0 = {\"name\": \"breast_homo_host\", \"namespace\": \"experiment\"}\n",
    "train_data_1 = {\"name\": \"breast_homo_host\", \"namespace\": \"experiment\"}\n",
    "reader_0 = Reader(name=\"reader_0\")\n",
    "reader_0.get_party_instance(role='host', party_id=host_0).component_param(table=train_data_0)\n",
    "reader_0.get_party_instance(role='host', party_id=host_1).component_param(table=train_data_1)\n",
    "\n",
    "# tranform组件将上传的数据转换为FATE标准格式\n",
    "data_transform_0 = DataTransform(name='data_transform_0')\n",
    "data_transform_0.get_party_instance(\n",
    "    role='host', party_id=host_0).component_param(\n",
    "    with_label=True, output_format=\"dense\")\n",
    "data_transform_0.get_party_instance(\n",
    "    role='host', party_id=host_1).component_param(\n",
    "    with_label=True, output_format=\"dense\")\n",
    "\n",
    "\"\"\"\n",
    "定义模型\n",
    "\"\"\"\n",
    "# 与本地使用torch sequential一致\n",
    "model = nn.Sequential(\n",
    "    nn.Linear(30, 1),\n",
    "    nn.Sigmoid()\n",
    ")\n",
    "loss = nn.BCELoss()\n",
    "optimizer = t.optim.Adam(model.parameters(), lr=0.01)\n",
    "\n",
    "\n",
    "\"\"\"\n",
    "创建组件\n",
    "\"\"\"\n",
    "nn_component = HomoNN(name='nn_0',\n",
    "                      model=model,\n",
    "                      loss=loss,\n",
    "                      optimizer=optimizer,\n",
    "                      # TrainerParam传递参数到fedavg_trainer，关于Trainer详细请见下文\n",
    "                      trainer=TrainerParam(trainer_name='fedavg_trainer', epochs=20, batch_size=128, validation_freqs=1),\n",
    "                      torch_seed=100 # 全局随机种子\n",
    "                      )\n",
    "\n",
    "# 加入组件，定义数据间的数据IO\n",
    "pipeline.add_component(reader_0)\n",
    "pipeline.add_component(data_transform_0, data=Data(data=reader_0.output.data))\n",
    "pipeline.add_component(nn_component, data=Data(train_data=data_transform_0.output.data))\n",
    "pipeline.add_component(Evaluation(name='eval_0'), data=Data(data=nn_component.output.data))\n",
    "\n",
    "pipeline.compile()\n",
    "pipeline.fit()"
   ]
  },
  {
   "cell_type": "markdown",
   "id": "af94b45d",
   "metadata": {},
   "source": [
    "## 获取模型预测结果"
   ]
  },
  {
   "cell_type": "code",
   "execution_count": 5,
   "id": "4f7325c1",
   "metadata": {},
   "outputs": [
    {
     "data": {
      "text/html": [
       "<div>\n",
       "<style scoped>\n",
       "    .dataframe tbody tr th:only-of-type {\n",
       "        vertical-align: middle;\n",
       "    }\n",
       "\n",
       "    .dataframe tbody tr th {\n",
       "        vertical-align: top;\n",
       "    }\n",
       "\n",
       "    .dataframe thead th {\n",
       "        text-align: right;\n",
       "    }\n",
       "</style>\n",
       "<table border=\"1\" class=\"dataframe\">\n",
       "  <thead>\n",
       "    <tr style=\"text-align: right;\">\n",
       "      <th></th>\n",
       "      <th>id</th>\n",
       "      <th>label</th>\n",
       "      <th>predict_result</th>\n",
       "      <th>predict_score</th>\n",
       "      <th>predict_detail</th>\n",
       "      <th>type</th>\n",
       "    </tr>\n",
       "  </thead>\n",
       "  <tbody>\n",
       "    <tr>\n",
       "      <th>0</th>\n",
       "      <td>1</td>\n",
       "      <td>0.0</td>\n",
       "      <td>0</td>\n",
       "      <td>0.02906397357583046</td>\n",
       "      <td>{'0': 0.9709360264241695, '1': 0.0290639735758...</td>\n",
       "      <td>train</td>\n",
       "    </tr>\n",
       "    <tr>\n",
       "      <th>1</th>\n",
       "      <td>4</td>\n",
       "      <td>1.0</td>\n",
       "      <td>1</td>\n",
       "      <td>0.9970678687095642</td>\n",
       "      <td>{'0': 0.002932131290435791, '1': 0.99706786870...</td>\n",
       "      <td>train</td>\n",
       "    </tr>\n",
       "    <tr>\n",
       "      <th>2</th>\n",
       "      <td>8</td>\n",
       "      <td>1.0</td>\n",
       "      <td>1</td>\n",
       "      <td>0.937065839767456</td>\n",
       "      <td>{'0': 0.06293416023254395, '1': 0.937065839767...</td>\n",
       "      <td>train</td>\n",
       "    </tr>\n",
       "    <tr>\n",
       "      <th>3</th>\n",
       "      <td>9</td>\n",
       "      <td>0.0</td>\n",
       "      <td>0</td>\n",
       "      <td>0.059680141508579254</td>\n",
       "      <td>{'0': 0.9403198584914207, '1': 0.0596801415085...</td>\n",
       "      <td>train</td>\n",
       "    </tr>\n",
       "    <tr>\n",
       "      <th>4</th>\n",
       "      <td>11</td>\n",
       "      <td>1.0</td>\n",
       "      <td>1</td>\n",
       "      <td>0.9879087805747986</td>\n",
       "      <td>{'0': 0.012091219425201416, '1': 0.98790878057...</td>\n",
       "      <td>train</td>\n",
       "    </tr>\n",
       "    <tr>\n",
       "      <th>...</th>\n",
       "      <td>...</td>\n",
       "      <td>...</td>\n",
       "      <td>...</td>\n",
       "      <td>...</td>\n",
       "      <td>...</td>\n",
       "      <td>...</td>\n",
       "    </tr>\n",
       "    <tr>\n",
       "      <th>223</th>\n",
       "      <td>560</td>\n",
       "      <td>0.0</td>\n",
       "      <td>0</td>\n",
       "      <td>0.015546107664704323</td>\n",
       "      <td>{'0': 0.9844538923352957, '1': 0.0155461076647...</td>\n",
       "      <td>train</td>\n",
       "    </tr>\n",
       "    <tr>\n",
       "      <th>224</th>\n",
       "      <td>561</td>\n",
       "      <td>1.0</td>\n",
       "      <td>1</td>\n",
       "      <td>0.7906540632247925</td>\n",
       "      <td>{'0': 0.20934593677520752, '1': 0.790654063224...</td>\n",
       "      <td>train</td>\n",
       "    </tr>\n",
       "    <tr>\n",
       "      <th>225</th>\n",
       "      <td>563</td>\n",
       "      <td>1.0</td>\n",
       "      <td>1</td>\n",
       "      <td>0.9084046483039856</td>\n",
       "      <td>{'0': 0.0915953516960144, '1': 0.9084046483039...</td>\n",
       "      <td>train</td>\n",
       "    </tr>\n",
       "    <tr>\n",
       "      <th>226</th>\n",
       "      <td>565</td>\n",
       "      <td>1.0</td>\n",
       "      <td>1</td>\n",
       "      <td>0.9931216835975647</td>\n",
       "      <td>{'0': 0.006878316402435303, '1': 0.99312168359...</td>\n",
       "      <td>train</td>\n",
       "    </tr>\n",
       "    <tr>\n",
       "      <th>227</th>\n",
       "      <td>566</td>\n",
       "      <td>1.0</td>\n",
       "      <td>1</td>\n",
       "      <td>0.9626039266586304</td>\n",
       "      <td>{'0': 0.03739607334136963, '1': 0.962603926658...</td>\n",
       "      <td>train</td>\n",
       "    </tr>\n",
       "  </tbody>\n",
       "</table>\n",
       "<p>228 rows × 6 columns</p>\n",
       "</div>"
      ],
      "text/plain": [
       "      id label predict_result         predict_score  \\\n",
       "0      1   0.0              0   0.02906397357583046   \n",
       "1      4   1.0              1    0.9970678687095642   \n",
       "2      8   1.0              1     0.937065839767456   \n",
       "3      9   0.0              0  0.059680141508579254   \n",
       "4     11   1.0              1    0.9879087805747986   \n",
       "..   ...   ...            ...                   ...   \n",
       "223  560   0.0              0  0.015546107664704323   \n",
       "224  561   1.0              1    0.7906540632247925   \n",
       "225  563   1.0              1    0.9084046483039856   \n",
       "226  565   1.0              1    0.9931216835975647   \n",
       "227  566   1.0              1    0.9626039266586304   \n",
       "\n",
       "                                        predict_detail   type  \n",
       "0    {'0': 0.9709360264241695, '1': 0.0290639735758...  train  \n",
       "1    {'0': 0.002932131290435791, '1': 0.99706786870...  train  \n",
       "2    {'0': 0.06293416023254395, '1': 0.937065839767...  train  \n",
       "3    {'0': 0.9403198584914207, '1': 0.0596801415085...  train  \n",
       "4    {'0': 0.012091219425201416, '1': 0.98790878057...  train  \n",
       "..                                                 ...    ...  \n",
       "223  {'0': 0.9844538923352957, '1': 0.0155461076647...  train  \n",
       "224  {'0': 0.20934593677520752, '1': 0.790654063224...  train  \n",
       "225  {'0': 0.0915953516960144, '1': 0.9084046483039...  train  \n",
       "226  {'0': 0.006878316402435303, '1': 0.99312168359...  train  \n",
       "227  {'0': 0.03739607334136963, '1': 0.962603926658...  train  \n",
       "\n",
       "[228 rows x 6 columns]"
      ]
     },
     "execution_count": 5,
     "metadata": {},
     "output_type": "execute_result"
    }
   ],
   "source": [
    "pipeline.get_component('nn_0').get_output_data()"
   ]
  },
  {
   "cell_type": "markdown",
   "id": "7d1df84b",
   "metadata": {},
   "source": [
    "## TrainerParam 训练器参数与训练器"
   ]
  },
  {
   "cell_type": "markdown",
   "id": "7c4a6605",
   "metadata": {},
   "source": [
    "在该版本中，Homo-NN的训练逻辑，联邦聚合逻辑，都在Trainer类中实现。FATE自带一个fedavg_trainer，其中实现了标准的fedavg算法，默认情况下会在每个epoch聚合各方的模型。 而TrainerParam的作用是:\n",
    "\n",
    "- 使用trainer_name='{模块名字}'指定使用的trainer，trainer在federatedml.nn.homo.trainer目录下，因此，你可以自定义自己的trainer，自定义trainer的教程将会有专门一章\n",
    "- 其余参数将会传递到trainer的\\_\\_init\\_\\_() 接口\n",
    "\n",
    "我们可以查看下FATE自带的 fedavg_trainer"
   ]
  },
  {
   "cell_type": "code",
   "execution_count": 6,
   "id": "d742b424",
   "metadata": {},
   "outputs": [],
   "source": [
    "from federatedml.nn.homo.trainer.fedavg_trainer import FedAVGTrainer"
   ]
  },
  {
   "cell_type": "markdown",
   "id": "a0e9a681",
   "metadata": {},
   "source": [
    "查看FedAVGTrainer的文档，了解可用的参数，提交任务时，这些参数都可用TrainerParam传递"
   ]
  },
  {
   "cell_type": "code",
   "execution_count": 7,
   "id": "041f1937",
   "metadata": {},
   "outputs": [
    {
     "name": "stdout",
     "output_type": "stream",
     "text": [
      "\n",
      "\n",
      "    Parameters\n",
      "    ----------\n",
      "    epochs: int >0, epochs to train\n",
      "    batch_size: int, -1 means full batch\n",
      "    early_stop: None, 'diff' or 'abs'. if None, disable early stop; if 'diff', use the loss difference between\n",
      "                two epochs as early stop condition, if differences < eps, stop training ; if 'abs', if loss < eps,\n",
      "                stop training\n",
      "    eps: float, eps value for early stop\n",
      "    secure_aggregate: bool, default is True, whether to use secure aggregation. if enabled, will add random number\n",
      "                            mask to local models. These random number masks will eventually cancel out to get 0.\n",
      "    weighted_aggregation: bool, whether add weight to each local model when doing aggregation.\n",
      "                         if True, According to origin paper, weight of a client is: n_local / n_global, where n_local\n",
      "                         is the sample number locally and n_global is the sample number of all clients.\n",
      "                         if False, simply averaging these models.\n",
      "\n",
      "    aggregate_every_n_epoch: None or int. if None, aggregate model on the end of every epoch, if int, aggregate\n",
      "                             every n epochs.\n",
      "    cuda: bool, use cuda or not\n",
      "    pin_memory: bool, for pytorch DataLoader\n",
      "    shuffle: bool, for pytorch DataLoader\n",
      "    data_loader_worker: int, for pytorch DataLoader, number of workers when loading data\n",
      "    validation_freqs: None or int. if int, validate your model and send validate results to fate-board every n epoch.\n",
      "                      if is binary classification task, will use metrics 'auc', 'ks', 'gain', 'lift', 'precision'\n",
      "                      if is multi classification task, will use metrics 'precision', 'recall', 'accuracy'\n",
      "                      if is regression task, will use metrics 'mse', 'mae', 'rmse', 'explained_variance', 'r2_score'\n",
      "    checkpoint_save_freqs: save model every n epoch, if None, will not save checkpoint.\n",
      "    task_type: str, 'auto', 'binary', 'multi', 'regression'\n",
      "               this option decides the return format of this trainer, and the evaluation type when running validation.\n",
      "               if auto, will automatically infer your task type from labels and predict results.\n",
      "    \n"
     ]
    }
   ],
   "source": [
    "print(FedAVGTrainer.__doc__)"
   ]
  },
  {
   "cell_type": "markdown",
   "id": "1c519f8d",
   "metadata": {},
   "source": [
    "也可参考下接口的代码"
   ]
  },
  {
   "cell_type": "code",
   "execution_count": null,
   "id": "01ff39a3",
   "metadata": {},
   "outputs": [],
   "source": [
    "class FedAVGTrainer(TrainerBase):\n",
    "\n",
    "    def __init__(self, epochs=10, batch_size=512,  # training parameter\n",
    "                 early_stop=None, eps=0.0001,  # early stop parameters\n",
    "                 secure_aggregate=True, weighted_aggregation=True, aggregate_every_n_epoch=None,  # federation\n",
    "                 cuda=False, pin_memory=True, shuffle=True, data_loader_worker=0,  # GPU dataloader\n",
    "                 validation_freqs=None,  # validation configuration\n",
    "                 checkpoint_save_freqs=None,\n",
    "                 task_type='auto'\n",
    "                 ):\n",
    "        ..."
   ]
  },
  {
   "cell_type": "markdown",
   "id": "75609d7f",
   "metadata": {},
   "source": [
    "# Homo NN组件的参数"
   ]
  },
  {
   "cell_type": "code",
   "execution_count": null,
   "id": "79b6724b",
   "metadata": {},
   "outputs": [],
   "source": [
    "print(HomoNN.__doc__)"
   ]
  },
  {
   "cell_type": "markdown",
   "id": "bde0e5e8",
   "metadata": {},
   "source": [
    "至此，我们已经可以对Homo-NN有一些基本的了解，并用其实现一些基本的建模任务了，不过Homo-NN还支持对模型，数据集和训练流程的自定义，可以\n",
    "参考后面的其他文档"
   ]
  },
  {
   "cell_type": "code",
   "execution_count": null,
   "id": "2e4237e4",
   "metadata": {},
   "outputs": [],
   "source": []
  }
 ],
 "metadata": {
  "kernelspec": {
   "display_name": "Python 3 (ipykernel)",
   "language": "python",
   "name": "python3"
  },
  "language_info": {
   "codemirror_mode": {
    "name": "ipython",
    "version": 3
   },
   "file_extension": ".py",
   "mimetype": "text/x-python",
   "name": "python",
   "nbconvert_exporter": "python",
   "pygments_lexer": "ipython3",
   "version": "3.8.13"
  }
 },
 "nbformat": 4,
 "nbformat_minor": 5
}
